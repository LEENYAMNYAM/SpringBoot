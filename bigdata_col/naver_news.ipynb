{
 "cells": [
  {
   "cell_type": "code",
   "execution_count": 75,
   "metadata": {},
   "outputs": [],
   "source": [
    "import urllib.request as req\n",
    "import urllib.parse\n",
    "import datetime\n",
    "import time\n",
    "import json\n",
    "import re\n",
    "client_id= 'gZ_281LMzd7BAmH3amsh'\n",
    "client_secret= '4KJHKoGzUh'"
   ]
  },
  {
   "cell_type": "code",
   "execution_count": 76,
   "metadata": {},
   "outputs": [],
   "source": [
    "def getRequestUrl(url):\n",
    "    request=req.Request(url)\n",
    "    request.add_header(\"X-Naver-Client-Id\",client_id)\n",
    "    request.add_header(\"X-Naver-Client-Secret\", client_secret)\n",
    "    try:\n",
    "        response=req.urlopen(request)\n",
    "        if response.getcode()==200:\n",
    "            print(f\"{datetime.datetime.now()} Url Request Success\")\n",
    "            return response.read().decode('utf-8')\n",
    "    except Exception as e:\n",
    "        print(e)\n",
    "        print(f\"{datetime.datetime.now()} Error for URL : {url}\")"
   ]
  },
  {
   "cell_type": "code",
   "execution_count": 77,
   "metadata": {},
   "outputs": [],
   "source": [
    "def getNaverSearch(node, src_text, start, display):\n",
    "    base=f\"https://openapi.naver.com/v1/search/{node}\"\n",
    "    params=f\"?query={urllib.parse.quote(src_text)}&start={start}&display={display}\"\n",
    "    url=base+params\n",
    "    #print(url)\n",
    "    resDecode=getRequestUrl(url)\n",
    "    if resDecode==None:\n",
    "        return None\n",
    "    else:\n",
    "        return json.loads(resDecode)"
   ]
  },
  {
   "cell_type": "code",
   "execution_count": 78,
   "metadata": {},
   "outputs": [],
   "source": [
    "def getPostData(item, jsonResult, tuple_list, cnt):\n",
    "    title=re.sub(r\"<[^>]+>\",\"\",item['title'])\n",
    "    title=re.sub(r'\"','',title)\n",
    "    #title=item['title'].replace('&quot;','').replace('<b>','').replace('</b>','')\n",
    "    description=item['description'].replace('&quot;','').replace('<b>','').replace('</b>','')\n",
    "    link=item['link']\n",
    "    pDate=datetime.datetime.strptime(item['pubDate'],'%a, %d %b %Y %H:%M:%S +0900')\n",
    "    pDate=pDate.strftime('%Y-%m-%d %H:%M:%S')\n",
    "    tuple_list.append((title, description, link, pDate))\n",
    "    jsonResult.append({'cnt':cnt,'title':title, 'description':description, 'link':link,'pDate':pDate})\n",
    "    #print(title, pDate)"
   ]
  },
  {
   "cell_type": "code",
   "execution_count": 79,
   "metadata": {},
   "outputs": [],
   "source": [
    "#def save_db(tuple_list):\n",
    "    # db에 저장하기\n",
    "\n",
    "    "
   ]
  },
  {
   "cell_type": "code",
   "execution_count": 80,
   "metadata": {},
   "outputs": [],
   "source": [
    "#def save_csv(tuple_list):\n",
    "    # csv 파일로 저장"
   ]
  },
  {
   "cell_type": "code",
   "execution_count": 81,
   "metadata": {},
   "outputs": [],
   "source": [
    "def main():\n",
    "    node='news'\n",
    "    src_text=input(\"검색어를 입력하세요\")\n",
    "    cnt=0\n",
    "    tuple_list=[]\n",
    "    jsonResult=[]\n",
    "    jsonResponse=getNaverSearch(node,src_text,1,100)#노드, 검색어,start, display\n",
    "    #print(jsonResponse)\n",
    "    total=jsonResponse['total']\n",
    "    \n",
    "    while ((jsonResponse!=None) and (jsonResponse['display']!=0)):\n",
    "        for item in jsonResponse['items']:\n",
    "            cnt+=1\n",
    "            getPostData(item, jsonResult, tuple_list,cnt)\n",
    "\n",
    "        start=jsonResponse['start']+jsonResponse['display']\n",
    "        jsonResponse=getNaverSearch(node, src_text, start, 100)\n",
    "\n",
    "    print(\"total count:\",total)\n",
    "    #print(jsonResult)\n",
    "    with open(f'{src_text}_naver_{node}.json','w',encoding='utf8') as f:\n",
    "        jsonFile=json.dumps(jsonResult, indent=4, sort_keys=False, ensure_ascii=False)\n",
    "        f.write(jsonFile)"
   ]
  },
  {
   "cell_type": "code",
   "execution_count": 82,
   "metadata": {},
   "outputs": [
    {
     "name": "stdout",
     "output_type": "stream",
     "text": [
      "2025-03-25 16:12:50.833773 Url Request Success\n",
      "2025-03-25 16:12:50.998607 Url Request Success\n",
      "2025-03-25 16:12:51.204331 Url Request Success\n",
      "2025-03-25 16:12:51.441870 Url Request Success\n",
      "2025-03-25 16:12:51.708722 Url Request Success\n",
      "2025-03-25 16:12:51.957507 Url Request Success\n",
      "2025-03-25 16:12:52.221907 Url Request Success\n",
      "2025-03-25 16:12:52.449883 Url Request Success\n",
      "2025-03-25 16:12:52.708069 Url Request Success\n",
      "2025-03-25 16:12:52.962214 Url Request Success\n",
      "HTTP Error 400: Bad Request\n",
      "2025-03-25 16:12:53.044376 Error for URL : https://openapi.naver.com/v1/search/news?query=%EC%86%90%ED%9D%A5%EB%AF%BC&start=1001&display=100\n",
      "total count: 706376\n"
     ]
    }
   ],
   "source": [
    "main()"
   ]
  },
  {
   "cell_type": "markdown",
   "metadata": {},
   "source": [
    "데이터랩에서 검색어 트렌드\n",
    "2024.01.01 ~ 2024.12.31\n",
    "연령별, 성별, 월별 검색어 트렌드를 수집하여, csv에 저장하는 코드를 작성하여 제출하세요"
   ]
  },
  {
   "cell_type": "markdown",
   "metadata": {},
   "source": []
  }
 ],
 "metadata": {
  "kernelspec": {
   "display_name": "base",
   "language": "python",
   "name": "python3"
  },
  "language_info": {
   "codemirror_mode": {
    "name": "ipython",
    "version": 3
   },
   "file_extension": ".py",
   "mimetype": "text/x-python",
   "name": "python",
   "nbconvert_exporter": "python",
   "pygments_lexer": "ipython3",
   "version": "3.12.7"
  }
 },
 "nbformat": 4,
 "nbformat_minor": 2
}
