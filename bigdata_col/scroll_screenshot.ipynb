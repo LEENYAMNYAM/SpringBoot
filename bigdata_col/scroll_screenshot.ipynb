from selenium import webdriver
import time

def take_screenshot_while_scrolling(driver, output_folder="screenshots"):
    import os
    
    # 폴더가 없는 경우 생성
    if not os.path.exists(output_folder):
        os.makedirs(output_folder)
    
    total_height = driver.execute_script("return document.body.scrollHeight")  # 페이지의 총 높이를 가져옵니다
    viewport_height = driver.execute_script("return window.innerHeight")  # 현재 화면의 높이를 가져옵니다
    
    scroll_position = 0
    screenshot_count = 0
    
    while scroll_position < total_height:
        # 스크린샷 저장
        driver.save_screenshot(os.path.join(output_folder, f"screenshot_{screenshot_count}.png"))
        screenshot_count += 1
        
        # 스크롤 이동
        driver.execute_script("window.scrollBy(0, arguments[0])", viewport_height)
        scroll_position += viewport_height   # 현재 스크롤 위치 업데이트
        time.sleep(1)  # 스크롤 후 페이지가 로드되도록 잠시 대기
    
    print(f"총 {screenshot_count}개의 스크린샷이 저장되었습니다.")

# Use case
driver = webdriver.Edge()
driver.get("https://www.example.com")  # 스크린샷 찍을 페이지로 이동
time.sleep(3)  # 페이지 로드 대기

# 호출
take_screenshot_while_scrolling(driver)

driver.quit()