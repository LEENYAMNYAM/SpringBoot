{
 "cells": [
  {
   "cell_type": "code",
   "execution_count": 2,
   "metadata": {},
   "outputs": [
    {
     "name": "stdout",
     "output_type": "stream",
     "text": [
      "{\"startDate\":\"2025-02-01\",\"endDate\":\"2025-03-25\",\"timeUnit\":\"month\",\"results\":[{\"title\":\"손흥민\",\"keywords\":[\"손흥민\",\"korean\"],\"data\":[{\"period\":\"2025-02-01\",\"ratio\":100},{\"period\":\"2025-03-01\",\"ratio\":80.954}]},{\"title\":\"손흥민\",\"keywords\":[\"손흥민\",\"english\"],\"data\":[{\"period\":\"2025-02-01\",\"ratio\":100},{\"period\":\"2025-03-01\",\"ratio\":80.954}]}]}\n"
     ]
    }
   ],
   "source": [
    "import os\n",
    "import sys\n",
    "import urllib.request\n",
    "client_id = \"BT6k3bbhO_5vyKyG4Mbv\"\n",
    "client_secret = \"_5FwJJECEe\"\n",
    "url = \"https://openapi.naver.com/v1/datalab/search\";\n",
    "body = \"{\\\"startDate\\\":\\\"2025-02-26\\\",\\\"endDate\\\":\\\"2025-03-25\\\",\\\"timeUnit\\\":\\\"month\\\",\\\"keywordGroups\\\":[{\\\"groupName\\\":\\\"손흥민\\\",\\\"keywords\\\":[\\\"손흥민\\\",\\\"korean\\\"]},{\\\"groupName\\\":\\\"손흥민\\\",\\\"keywords\\\":[\\\"손흥민\\\",\\\"english\\\"]}],\\\"device\\\":\\\"pc\\\",\\\"ages\\\":[\\\"3\\\",\\\"4\\\"],\\\"gender\\\":\\\"m\\\"}\";\n",
    "\n",
    "request = urllib.request.Request(url)\n",
    "request.add_header(\"X-Naver-Client-Id\",client_id)\n",
    "request.add_header(\"X-Naver-Client-Secret\",client_secret)\n",
    "request.add_header(\"Content-Type\",\"application/json\")\n",
    "response = urllib.request.urlopen(request, data=body.encode(\"utf-8\"))\n",
    "rescode = response.getcode()\n",
    "if(rescode==200):\n",
    "    response_body = response.read()\n",
    "    print(response_body.decode('utf-8'))\n",
    "else:\n",
    "    print(\"Error Code:\" + rescode)"
   ]
  }
 ],
 "metadata": {
  "kernelspec": {
   "display_name": "base",
   "language": "python",
   "name": "python3"
  },
  "language_info": {
   "codemirror_mode": {
    "name": "ipython",
    "version": 3
   },
   "file_extension": ".py",
   "mimetype": "text/x-python",
   "name": "python",
   "nbconvert_exporter": "python",
   "pygments_lexer": "ipython3",
   "version": "3.12.7"
  }
 },
 "nbformat": 4,
 "nbformat_minor": 2
}
