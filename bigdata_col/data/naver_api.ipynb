{
 "cells": [
  {
   "cell_type": "code",
   "execution_count": 18,
   "metadata": {},
   "outputs": [
    {
     "name": "stdout",
     "output_type": "stream",
     "text": [
      "요르단 상대 결승골 주인공 이재성, '추억의 골맛' 재현 노린다\n",
      "https://m.sports.naver.com/kfootball/article/425/0000161805\n",
      "Tue, 25 Mar 2025 10:35:00 +0900\n",
      "당시 대표팀은 손흥민(토트넘)이 부상으로 빠지고, 황희찬(울버햄프턴)이 전반 23분 만에 왼쪽 발목 부상으로 실려 나가는 어려운 상황에서 요르단을 꺾은 터라 승리의 기쁨이 더 컸다. 요르단전 골맛의 기쁨을 기억하는... \n",
      ";잉글랜드 복귀 원한다!; 손흥민은 안 쳐다본다…케인, 리버풀과 충격적...\n",
      "https://m.sports.naver.com/wfootball/article/477/0000541054\n",
      "Tue, 25 Mar 2025 10:16:00 +0900\n",
      "이로 인해 팬들은 손흥민과 케인이 다시 한번 프리미어리그에서 최강의 듀오로 활약할 가능성을 예상했다.... 손흥민과 호흡이 상당했다. 손흥민과 케인은 프리미어리그 역사상 가장 많은 골을 합작한 공격 듀오다. 두... \n",
      "홍명보호, FC서울 야잔 뚫어야 승점 3점 보인다\n",
      "https://m.sports.naver.com/kfootball/article/047/0002467133\n",
      "Tue, 25 Mar 2025 10:10:00 +0900\n",
      "전반 35분까지 유효 슈팅은 단 0회였고, 핵심이었던 손흥민-이재성-황희찬은 오만 수비진을 효과적으로 공략하지 못했다. 이에 더해 공격 핵심인 이강인마저 부상으로 이탈한 상황이기에, 고민은 더욱 깊어지고 있다.... \n",
      "손흥민 ;케인 그리워; 말했지만...케인 '충격' 리버풀 이적설에 깜짝 놀...\n",
      "https://m.sports.naver.com/wfootball/article/413/0000194334\n",
      "Tue, 25 Mar 2025 10:00:00 +0900\n",
      "손흥민은 여전히 해리 케인을 그리워하지만, 케인은 리버풀로 가며 프리미어리그 복귀를 생각 중이다. 영국... 케인은 토트넘에서 손흥민과 황금기를 함께 했다. 프리미어리그 역사상 최다 합작골 기록을 보유한 두... \n",
      "조 선두 불안한 홍명보호…'해결사' 손흥민 발끝 기대\n",
      "https://m.sports.naver.com/kfootball/article/003/0013139740\n",
      "Tue, 25 Mar 2025 10:00:00 +0900\n",
      "2026 북중미월드컵으로 향하는 홍명보호의 발걸음이 무거워진 가운데 '캡틴' 손흥민(토트넘)이 또다시... 자연스럽게 한국 최고 공격수 손흥민의 발끝으로 시선이 모이는 이유다. 요르단은 손흥민에게 설욕의 대상이다.... \n",
      "남보라 예비 신랑 외모 공개…동생들 ;손흥민 닮았다;\n",
      "https://www.topstarnews.net/news/articleView.html?idxno=15622519\n",
      "Tue, 25 Mar 2025 09:58:00 +0900\n",
      "사진을 본 남동생은 ;축구 선수가 보여, 솔직히;라고 말했고, 손흥민을 언급하며 예비 신랑의 비주얼을 표현했다. 다른 동생들도 ;맞아. 우리끼리도 그렇게 얘기했어;라며 공감을 표했다. 이에 남보라의 예비 신랑 외모에... \n",
      "[IN POINT] 손흥민만 답이 아니다, 막히면 바꿔야...'프레시' 2선 자원들...\n",
      "https://m.sports.naver.com/kfootball/article/413/0000194333\n",
      "Tue, 25 Mar 2025 09:56:00 +0900\n",
      "손흥민이 기대에 도달하지 못했다. 토트넘 훗스퍼에서 살인적인 일정을 소화하고 장거리 비행까지 하면서 지친 모습이었다. 잔디 상태에 제대로 적응하지 못했다. 중앙, 좌측을 오가며 활약을 했는데 우리가 알던 손흥민... \n",
      "해리 케인 ;은퇴는 영국에서 하려고;...여기서 잘해서 '리버풀' 가겠습...\n",
      "https://m.sports.naver.com/wfootball/article/445/0000281023\n",
      "Tue, 25 Mar 2025 09:23:00 +0900\n",
      "과거 잉글랜드 프리미어리그(EPL)에서 손흥민과 '손케 듀오'로 불렸던 공격수 해리 케인이 영국 복귀를... 케인은 특히 손흥민과의 뛰어난 호흡을 구사하며 '손케 듀오'로 불렸다. 케인이 뛰어난 연계 능력을 발휘하면... \n",
      "“유럽파가 K리그 복귀 망설이지 않을까” 이재성, 잔디 논란에 쓴소리\n",
      "https://m.sports.naver.com/kfootball/article/018/0005970072\n",
      "Tue, 25 Mar 2025 09:20:00 +0900\n",
      "손흥민이 자신에게 연결되는 이강인의 패스를 놓친 뒤 아쉬워하고 있다. 사진=연합뉴스 2026 북중미 월드컵 아시아 3차 예선 B조 8차전 요르단전을 앞둔 축구국가대표팀 이재성이 24일 수원월드컵경기장에서 훈련에 앞서... \n",
      "케인 1426억 초대박 이적, '손흥민과 득점 경쟁' 충격 이적설…;EPL 통산...\n",
      "https://m.sports.naver.com/wfootball/article/311/0001842418\n",
      "Tue, 25 Mar 2025 09:16:00 +0900\n",
      "해리 케인이 프리미어리그에서 손흥민과 적으로 만날 가능성이 생겼다. 잉글랜드 복귀를 원하고 있는 케인이 토트넘 홋스퍼가 아닌 리버풀을 선택할 수 있다는 이적설이 던져졌다. 케인은 리버풀을 통해 잉글랜드 무대로... \n"
     ]
    }
   ],
   "source": [
    "import os\n",
    "import sys\n",
    "import urllib.request\n",
    "import json\n",
    "import re\n",
    "client_id = \"pyy_pVeOlIDssQdbLDyw\"\n",
    "client_secret = \"2K4VfXaDNC\"\n",
    "encText = urllib.parse.quote(\"손흥민\")\n",
    "url = \"https://openapi.naver.com/v1/search/news?query=\" + encText # JSON 결과\n",
    "# url = \"https://openapi.naver.com/v1/search/blog.xml?query=\" + encText # XML 결과\n",
    "request = urllib.request.Request(url) #request 객체 생성\n",
    "request.add_header(\"X-Naver-Client-Id\",client_id)\n",
    "request.add_header(\"X-Naver-Client-Secret\",client_secret)\n",
    "response = urllib.request.urlopen(request)\n",
    "rescode = response.getcode()\n",
    "item_list=[]\n",
    "if(rescode==200):\n",
    "    response_body = response.read()\n",
    "    result=json.loads(response_body.decode('utf-8'))\n",
    "    items=result['items']\n",
    "    for item in items:\n",
    "        #title=''.join(re.findall(r'[가-힣0-9 ]',item['title']))\n",
    "        title=item['title'].replace('&quot','').replace('<b>','').replace('</b>','')\n",
    "        link=item['link']\n",
    "        pubDate=item['pubDate']\n",
    "        description=item['description'].replace('&quot','').replace('<b>','').replace('</b>','')\n",
    "        print(title)\n",
    "        print(link)\n",
    "        print(pubDate)\n",
    "        print(description)\n",
    "        item_list.append((title,link,pubDate,description))\n",
    "else:\n",
    "    print(\"Error Code:\" + rescode)"
   ]
  },
  {
   "cell_type": "code",
   "execution_count": 19,
   "metadata": {},
   "outputs": [
    {
     "data": {
      "text/plain": [
       "[(\"요르단 상대 결승골 주인공 이재성, '추억의 골맛' 재현 노린다\",\n",
       "  'https://m.sports.naver.com/kfootball/article/425/0000161805',\n",
       "  'Tue, 25 Mar 2025 10:35:00 +0900',\n",
       "  '당시 대표팀은 손흥민(토트넘)이 부상으로 빠지고, 황희찬(울버햄프턴)이 전반 23분 만에 왼쪽 발목 부상으로 실려 나가는 어려운 상황에서 요르단을 꺾은 터라 승리의 기쁨이 더 컸다. 요르단전 골맛의 기쁨을 기억하는... '),\n",
       " (';잉글랜드 복귀 원한다!; 손흥민은 안 쳐다본다…케인, 리버풀과 충격적...',\n",
       "  'https://m.sports.naver.com/wfootball/article/477/0000541054',\n",
       "  'Tue, 25 Mar 2025 10:16:00 +0900',\n",
       "  '이로 인해 팬들은 손흥민과 케인이 다시 한번 프리미어리그에서 최강의 듀오로 활약할 가능성을 예상했다.... 손흥민과 호흡이 상당했다. 손흥민과 케인은 프리미어리그 역사상 가장 많은 골을 합작한 공격 듀오다. 두... '),\n",
       " ('홍명보호, FC서울 야잔 뚫어야 승점 3점 보인다',\n",
       "  'https://m.sports.naver.com/kfootball/article/047/0002467133',\n",
       "  'Tue, 25 Mar 2025 10:10:00 +0900',\n",
       "  '전반 35분까지 유효 슈팅은 단 0회였고, 핵심이었던 손흥민-이재성-황희찬은 오만 수비진을 효과적으로 공략하지 못했다. 이에 더해 공격 핵심인 이강인마저 부상으로 이탈한 상황이기에, 고민은 더욱 깊어지고 있다.... '),\n",
       " (\"손흥민 ;케인 그리워; 말했지만...케인 '충격' 리버풀 이적설에 깜짝 놀...\",\n",
       "  'https://m.sports.naver.com/wfootball/article/413/0000194334',\n",
       "  'Tue, 25 Mar 2025 10:00:00 +0900',\n",
       "  '손흥민은 여전히 해리 케인을 그리워하지만, 케인은 리버풀로 가며 프리미어리그 복귀를 생각 중이다. 영국... 케인은 토트넘에서 손흥민과 황금기를 함께 했다. 프리미어리그 역사상 최다 합작골 기록을 보유한 두... '),\n",
       " (\"조 선두 불안한 홍명보호…'해결사' 손흥민 발끝 기대\",\n",
       "  'https://m.sports.naver.com/kfootball/article/003/0013139740',\n",
       "  'Tue, 25 Mar 2025 10:00:00 +0900',\n",
       "  \"2026 북중미월드컵으로 향하는 홍명보호의 발걸음이 무거워진 가운데 '캡틴' 손흥민(토트넘)이 또다시... 자연스럽게 한국 최고 공격수 손흥민의 발끝으로 시선이 모이는 이유다. 요르단은 손흥민에게 설욕의 대상이다.... \"),\n",
       " ('남보라 예비 신랑 외모 공개…동생들 ;손흥민 닮았다;',\n",
       "  'https://www.topstarnews.net/news/articleView.html?idxno=15622519',\n",
       "  'Tue, 25 Mar 2025 09:58:00 +0900',\n",
       "  '사진을 본 남동생은 ;축구 선수가 보여, 솔직히;라고 말했고, 손흥민을 언급하며 예비 신랑의 비주얼을 표현했다. 다른 동생들도 ;맞아. 우리끼리도 그렇게 얘기했어;라며 공감을 표했다. 이에 남보라의 예비 신랑 외모에... '),\n",
       " (\"[IN POINT] 손흥민만 답이 아니다, 막히면 바꿔야...'프레시' 2선 자원들...\",\n",
       "  'https://m.sports.naver.com/kfootball/article/413/0000194333',\n",
       "  'Tue, 25 Mar 2025 09:56:00 +0900',\n",
       "  '손흥민이 기대에 도달하지 못했다. 토트넘 훗스퍼에서 살인적인 일정을 소화하고 장거리 비행까지 하면서 지친 모습이었다. 잔디 상태에 제대로 적응하지 못했다. 중앙, 좌측을 오가며 활약을 했는데 우리가 알던 손흥민... '),\n",
       " (\"해리 케인 ;은퇴는 영국에서 하려고;...여기서 잘해서 '리버풀' 가겠습...\",\n",
       "  'https://m.sports.naver.com/wfootball/article/445/0000281023',\n",
       "  'Tue, 25 Mar 2025 09:23:00 +0900',\n",
       "  \"과거 잉글랜드 프리미어리그(EPL)에서 손흥민과 '손케 듀오'로 불렸던 공격수 해리 케인이 영국 복귀를... 케인은 특히 손흥민과의 뛰어난 호흡을 구사하며 '손케 듀오'로 불렸다. 케인이 뛰어난 연계 능력을 발휘하면... \"),\n",
       " ('“유럽파가 K리그 복귀 망설이지 않을까” 이재성, 잔디 논란에 쓴소리',\n",
       "  'https://m.sports.naver.com/kfootball/article/018/0005970072',\n",
       "  'Tue, 25 Mar 2025 09:20:00 +0900',\n",
       "  '손흥민이 자신에게 연결되는 이강인의 패스를 놓친 뒤 아쉬워하고 있다. 사진=연합뉴스 2026 북중미 월드컵 아시아 3차 예선 B조 8차전 요르단전을 앞둔 축구국가대표팀 이재성이 24일 수원월드컵경기장에서 훈련에 앞서... '),\n",
       " (\"케인 1426억 초대박 이적, '손흥민과 득점 경쟁' 충격 이적설…;EPL 통산...\",\n",
       "  'https://m.sports.naver.com/wfootball/article/311/0001842418',\n",
       "  'Tue, 25 Mar 2025 09:16:00 +0900',\n",
       "  '해리 케인이 프리미어리그에서 손흥민과 적으로 만날 가능성이 생겼다. 잉글랜드 복귀를 원하고 있는 케인이 토트넘 홋스퍼가 아닌 리버풀을 선택할 수 있다는 이적설이 던져졌다. 케인은 리버풀을 통해 잉글랜드 무대로... ')]"
      ]
     },
     "execution_count": 19,
     "metadata": {},
     "output_type": "execute_result"
    }
   ],
   "source": [
    "item_list"
   ]
  },
  {
   "cell_type": "markdown",
   "metadata": {},
   "source": [
    "\n",
    "book 검색\n",
    "제목, 저자, 풀판사, 가격, 이미지 링크, 출판일, 200건 검색"
   ]
  },
  {
   "cell_type": "code",
   "execution_count": null,
   "metadata": {},
   "outputs": [],
   "source": [
    "import urllib.request\n",
    "import json\n",
    "import pandas as pd\n",
    "client_id = \"gZ_281LMzd7BAmH3amsh\"\n",
    "client_secret = \"4KJHKoGzUh\"\n",
    "search_list=['AI','python','한국사']\n",
    "for search in search_list:\n",
    "    encText = urllib.parse.quote(search)\n",
    "    book_list=[]\n",
    "    for i in range(1,1001):\n",
    "        url = f\"https://openapi.naver.com/v1/search/book?query={encText}&display=100&start={i}\" # JSON 결과 , 블로그\n",
    "        # url = \"https://openapi.naver.com/v1/search/news?query=\" + encText # JSON 결과, 뉴스\n",
    "        # url = \"https://openapi.naver.com/v1/search/blog.xml?query=\" + encText # XML 결과\n",
    "        request = urllib.request.Request(url)\n",
    "        request.add_header(\"X-Naver-Client-Id\",client_id)\n",
    "        request.add_header(\"X-Naver-Client-Secret\",client_secret)\n",
    "        response = urllib.request.urlopen(request)\n",
    "        rescode = response.getcode()\n",
    "        if(rescode==200):\n",
    "            response_body = response.read()\n",
    "            data=response_body.decode('utf-8')\n",
    "            #print(data)\n",
    "            data1=json.loads(data)\n",
    "            items=data1['items']\n",
    "            for item in items:\n",
    "                title=item['title'].replace('<b>','').replace('</b>','')\n",
    "                link=item['link']\n",
    "                image_src=item['image']\n",
    "                author=item['author']\n",
    "                publisher=item['publisher']\n",
    "                price=item['discount']\n",
    "                pubdate=item['pubdate']\n",
    "                description=item['description']\n",
    "                book_list.append((title,link,image_src,author,publisher,price, pubdate,description))\n",
    "            # items=response_body['items']\n",
    "            # print(items)\n",
    "        else:\n",
    "            print(\"Error Code:\" + rescode)\n",
    "\n",
    "    book_df=pd.DataFrame(book_list,\n",
    "                     columns=['title','link','image_src','author','publisher','price','pubdate','description'])\n",
    "    book_df.to_csv(f\"{search}.csv\",index=False)    "
   ]
  },
  {
   "cell_type": "code",
   "execution_count": null,
   "metadata": {},
   "outputs": [
    {
     "name": "stdout",
     "output_type": "stream",
     "text": [
      "200\n"
     ]
    }
   ],
   "source": [
    "\n",
    "print(len(book_list))\n",
    "book_df=pd.DataFrame(book_list,\n",
    "                     columns=['title','link','image_src','author','publisher','price','pubdate','description'])\n",
    "book_df.to_csv(\"book_list.csv\",index=False)"
   ]
  },
  {
   "cell_type": "code",
   "execution_count": null,
   "metadata": {},
   "outputs": [],
   "source": []
  }
 ],
 "metadata": {
  "kernelspec": {
   "display_name": "base",
   "language": "python",
   "name": "python3"
  },
  "language_info": {
   "codemirror_mode": {
    "name": "ipython",
    "version": 3
   },
   "file_extension": ".py",
   "mimetype": "text/x-python",
   "name": "python",
   "nbconvert_exporter": "python",
   "pygments_lexer": "ipython3",
   "version": "3.12.7"
  }
 },
 "nbformat": 4,
 "nbformat_minor": 2
}
